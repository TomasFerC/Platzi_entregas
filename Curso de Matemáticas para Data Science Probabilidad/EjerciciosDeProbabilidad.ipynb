{
  "nbformat": 4,
  "nbformat_minor": 0,
  "metadata": {
    "colab": {
      "provenance": [],
      "collapsed_sections": [
        "OuVGSARZqcKF",
        "Tq1c5_KzUaCG",
        "gJZrejp27x1N",
        "HQ8eIXdj9Vx-"
      ]
    },
    "kernelspec": {
      "name": "python3",
      "display_name": "Python 3"
    }
  },
  "cells": [
    {
      "cell_type": "markdown",
      "metadata": {
        "id": "OuVGSARZqcKF"
      },
      "source": [
        "# Tipos de probabilidad (revisión de conceptos)\n",
        "\n",
        "Según lo visto en clase, tenemos tres tipos de probabilidad a definir. Sean A y B dos eventos aleatorios diferentes, entonces:\n",
        "\n",
        "---\n",
        "\n",
        "`Probabilidad conjunta`: sean $A$ y $B$ dos eventos aleatorios diferentes, definimos la probabilidad conjunta de que ambos eventos ocurran por medio de la regla del producto: \n",
        "\n",
        "$$P(A, B) = P(A|B)P(B)$$\n",
        "\n",
        "donde $P(A|B)$ se define como la `probabilidad condicional` de que ocurra A dado B, y $P(B)$ es la probabilidad de que ocurra B (sin conocimiento extra de otras variables).\n",
        "\n",
        "---\n",
        "\n",
        "`Probabilidad marginal`: la probabilidad marginal de A sobre una distribución conjunta de probabilidades en A y B, se define como la suma de todas las probabilidades conjuntas $P(A, B)$ considerando todos los posibles valores de B: \n",
        "\n",
        "$$P(A) = \\sum_{B=b} P(A,B) = \\sum_{B=b} P(A|B) P(B)$$\n",
        "\n"
      ]
    },
    {
      "cell_type": "markdown",
      "metadata": {
        "id": "YTVHbmebucgL"
      },
      "source": [
        "## Ejercicios (bloque 1)\n",
        "\n",
        "Considerando un lanzamiento de un dado y considerando los siguientes eventos aleatorios: \n",
        "\n",
        "A = {el resultado del lanzamiento de un dado es 6}\n",
        "\n",
        "B = {el resultado del lanzamiento de un dado es par}\n",
        "\n",
        "C = {el resultado del lanzamiento de un dado es impar}\n",
        "\n",
        "calcula las siguientes probabilidades: \n",
        "\n",
        "1. $P(A|B) = $1/3\n",
        "2. $P(A|C) = $0\n",
        "3. $P(B|C) = $0\n"
      ]
    },
    {
      "cell_type": "markdown",
      "metadata": {
        "id": "8U9IOHWXv89f"
      },
      "source": [
        "## Ejercicios (bloque 2)\n",
        "\n",
        "Considerando una ruleta de doce números \n",
        "\n",
        "{$1,2,3,4,5,6,7,8,9,10,11,12$} \n",
        "\n",
        "dos jugadores eligen 6 números, cada uno de ellos. Supón que el jugador 1 elige A = {$1,2,3,4,5,6$} y calcula las siguientes probabilidades: \n",
        "\n",
        "1. $P(A|B)$ sabiendo que el jugador 2 elige B = {$2,4,6,8,10,12$}\n",
        "2. $P(A|B)$ sabiendo que el jugador 2 elige B = {$1,3,5,7,9,11$}\n",
        "3. $P(A|B)$ sabiendo que el jugador 2 elige B = {$5,6,7,8,9,10$}\n",
        "\n",
        "\n",
        "1. $P(A|B) = 3/6 = $1/2\n",
        "2. $P(A|B) = 3/6 = $1/2\n",
        "3. $P(A|B) = 2/6 = $1/3\n"
      ]
    },
    {
      "cell_type": "markdown",
      "metadata": {
        "id": "NibRqkn-0IlF"
      },
      "source": [
        "## Ejercicios (bloque 3)\n",
        "\n",
        "Considera un problema donde se lanzan dos monedas, sean $m_1$ y $m_2$. Verifica la regla del producto para las siguientes probabilidades (dibuja el espacio muestral y calcula cada probabilidad por separado): \n",
        "1. $P(m_1 = \\text{cara}, m_2 = \\text{sello}) = 1/4$\n",
        "2. $P(m_1 = \\text{cara} | m_2 = \\text{sello}) = 1/2$\n",
        "3. $P(m_2 = \\text{sello}) = 1/2$\n",
        "\n",
        "\n",
        "\n",
        "\n",
        "```\n",
        "Cara   m1m2 | m1m2\n",
        "-------------------\n",
        "Sello  m1m2 | m1m2\n",
        "\n",
        "      Cara  | Sello\n",
        "```\n",
        "\n",
        "p(m1=c,m2=s) = P (m1=c|m2=s) P (m2=s) = 1/2*1/2=1/4\n"
      ]
    },
    {
      "cell_type": "markdown",
      "metadata": {
        "id": "Tq1c5_KzUaCG"
      },
      "source": [
        "# Distribuciones discretas (e.j. binomial)\n",
        "\n",
        "---\n",
        "\n",
        "\n",
        "\n",
        "Recordando que la distribución binomial está dada por: \n",
        "\n",
        "$$\n",
        "P(k, n; p) = {n \\choose k} p^k (1-p)^{n-k} = \\frac{n!}{k!(n-k)!}p^k (1-p)^{n-k}\n",
        "$$\n",
        "\n",
        "donde $P(k, n; p)$ representa la probabilidad de obtener $k$ éxitos de $n$ intentos con posibilidad **binaria** (por ejemplo, lanzamientos de moneda). \n",
        "\n",
        "`Ejemplo`: la probabilidad de obtener 4 caras a partir de 10 lanzamientos consecutivos de moneda, está dada por (tomando $p=0.5$, por lo tanto $1-p=0.5$): \n",
        "\n",
        "$$\n",
        "P(k=4, n=10; p=0.5) = {10 \\choose 4} \\left( \\frac{1}{2}\\right)^{10} = \\frac{10!}{4!6!} \\left( \\frac{1}{2}\\right)^{10}\n",
        "$$\n",
        "\n",
        "---\n",
        "\n",
        "Ahora, la probabilidad de obtener $k$ o menos éxitos a partir de $n$ intentos está dada por la distribución acumulada: \n",
        "\n",
        "$$\n",
        "C(k, n; p) = \\sum_{i=0}^k P(i, n;p) = \\sum_{i=0}^k {n \\choose i} p^i (1-p)^{n-i}\n",
        "$$ \n",
        "\n",
        "Por convención entendemos que:\n",
        "\n",
        "$$C(k=3,n=6;p=0.5) = P(k \\leq 3, n=6, p=0.5 )$$\n",
        "\n",
        "\n",
        "`Ejemplo`: la probabilidad de obtener 3 o menos caras a partir de 6 lanzamientos consecutivos está dada por (tomando $p=0.5$, por lo tanto $1-p=0.5$): \n",
        "\n",
        "$$P(k \\leq 3, n=6;p=0.5) = \\sum_{i=0}^3 {6 \\choose i} \\left(\\frac{1}{2} \\right)^6 $$\n",
        "\n",
        "$$P(k \\leq 3, n=6;p=0.5) = \\left(\\frac{1}{2} \\right)^6 \\sum_{i=0}^3 {6 \\choose i} $$\n",
        "\n",
        "$$P(k \\leq 3, n=6;p=0.5) = \\left(\\frac{1}{2} \\right)^6 \\left\\{ {6 \\choose 0} + {6 \\choose 1} + {6 \\choose 2} + {6 \\choose 3} \\right\\}$$\n"
      ]
    },
    {
      "cell_type": "markdown",
      "metadata": {
        "id": "_03BrIqTkkH1"
      },
      "source": [
        "## Ejercicios (bloque 1)\n",
        "\n",
        "Calcula a mano las siguientes probabilidades (tomando $p=0.5$, por lo tanto $1-p=0.5$):\n",
        "\n",
        "1. Probabilidad de obtener 3 caras a partir de 12 lanzamientos de moneda.\n",
        "* $$\n",
        "P(k=3, n=12; p=0.5) = = \\frac{12!}{3!9!} \\left( \\frac{1}{2}\\right)^{12}= 0.054\n",
        "$$\n",
        "\n",
        "\n",
        "2. Probabilidad de obtener 5 o menos caras a partir de 10 lanzamientos de moneda. \n",
        "\n",
        "$$P(k \\leq 5, n=10;p=0.5) = \\left(\\frac{1}{2} \\right)^10 \\left\\{ {10 \\choose 0} + {10 \\choose 1} + {10 \\choose 2} + {10 \\choose 3} + {10 \\choose 4} + {10 \\choose 5} \\right\\} = \\frac{1}{1.024} * (1+10+90+120+210+252) = \\frac{1}{1.024} * 638 = 0.623$$\n",
        "\n",
        "3. Probabilidad de obtener menos de 6 caras a partir de 10 lanzamientos de moneda.\n",
        "\n",
        "$$P(k \\leq 5, n=10;p=0.5) = \\left(\\frac{1}{2} \\right)^10 \\left\\{ {10 \\choose 0} + {10 \\choose 1} + {10 \\choose 2} + {10 \\choose 3} + {10 \\choose 4} + {10 \\choose 5} + {10 \\choose 6} \\right\\} = \\frac{1}{1.024} * (1+10+90+120+210+252+210) = \\frac{1}{1.024} * 848 = 0.828 $$\n",
        "\n",
        "Calcula a mano las mismas probabilidades anteriores pero considerando ahora $p=0.3$."
      ]
    },
    {
      "cell_type": "markdown",
      "metadata": {
        "id": "JW8Nt8avmVuB"
      },
      "source": [
        "## Bonus en Python"
      ]
    },
    {
      "cell_type": "code",
      "metadata": {
        "id": "8cphK5HBUTaj",
        "colab": {
          "base_uri": "https://localhost:8080/"
        },
        "outputId": "62bf9073-3d27-4cb6-b500-66bc4383bf61"
      },
      "source": [
        "# definición de la distribución binomial \n",
        "from math import factorial\n",
        "from scipy.stats import binom\n",
        "def my_binomial(k, n, p):\n",
        "  return factorial(n)/(factorial(k)*(factorial(n-k)))*pow(p,k)*pow(1-p, n-k)\n",
        "\n",
        "# escribe tu codigo aquí:\n",
        "def my_cumulative_binomial(k, n, p):\n",
        "  total = 0\n",
        "  for i in range(k+1):\n",
        "    total += my_binomial(i, n, p)\n",
        "\n",
        "  return total \n",
        "\n",
        "print(1.1, my_binomial(3, 12, 0.5))\n",
        "print(2.1, my_cumulative_binomial(5, 10, 0.5))\n",
        "print(3.1, my_cumulative_binomial(6, 10, 0.5))\n",
        "\n",
        "print(1.2, my_binomial(3, 12, 0.3))\n",
        "print(2.2, my_cumulative_binomial(5, 10, 0.3))\n",
        "print(3.2, my_cumulative_binomial(6, 10, 0.3))"
      ],
      "execution_count": 23,
      "outputs": [
        {
          "output_type": "stream",
          "name": "stdout",
          "text": [
            "1.1 0.0537109375\n",
            "2.1 0.623046875\n",
            "3.1 0.828125\n",
            "1.2 0.23970042557999985\n",
            "2.2 0.9526510125999994\n",
            "3.2 0.9894079215999994\n"
          ]
        }
      ]
    },
    {
      "cell_type": "code",
      "source": [
        "#libreria  scipy\n",
        "dist = binom(12, 0.5)\n",
        "print(1.1, dist.pmf(3))\n",
        "dist = binom(12, 0.3)\n",
        "print(1.2, dist.pmf(3))\n",
        "dist = binom(10, 0.5)\n",
        "print(2.1, dist.cdf(5))\n",
        "dist = binom(10, 0.3)\n",
        "print(2.2, dist.cdf(5))\n",
        "dist = binom(10, 0.5)\n",
        "print(3.1, dist.cdf(6))\n",
        "dist = binom(10, 0.3)\n",
        "print(3.2, dist.cdf(6))"
      ],
      "metadata": {
        "colab": {
          "base_uri": "https://localhost:8080/"
        },
        "id": "Ewb9BqQ4pdPA",
        "outputId": "d8cbe7dc-330a-4a96-a0a4-2dfe897a3573"
      },
      "execution_count": 26,
      "outputs": [
        {
          "output_type": "stream",
          "name": "stdout",
          "text": [
            "1.1 0.053710937500000014\n",
            "1.2 0.23970042557999985\n",
            "2.1 0.623046875\n",
            "2.2 0.9526510126000001\n",
            "3.1 0.828125\n",
            "3.2 0.9894079216\n"
          ]
        }
      ]
    },
    {
      "cell_type": "markdown",
      "metadata": {
        "id": "7AZc-zbQsRD9"
      },
      "source": [
        "# Distribuciones continuas (e.j. gaussiana)\n",
        "\n",
        "Recordemos que la distribución de probabilidad normal o gaussiana está dada por: \n",
        "\n",
        "$$P(X) = \\frac{1}{\\sigma \\sqrt{2 \\pi}} \\exp{\\left[-\\frac{1}{2}\\left(\\frac{X-\\mu}{\\sigma} \\right)^2 \\right]}$$\n",
        "\n",
        "donde:\n",
        "\n",
        "* $\\mu$: media de la distribución\n",
        "* $\\sigma$: desviación estandar de la distribución\n",
        "\n",
        "`Ejemplo`: considerando una variable aleatoria que sigue una distribución normal con media $\\mu=4$ y desviación estándar $\\sigma=0.3$, la probabilidad de que dicha variable tome el valor de $0.2$ está dada por: \n",
        "\n",
        "$$P(0.2) =  \\frac{1}{0.3 \\sqrt{2 \\pi}} \\exp{\\left[-\\frac{1}{2}\\left(\\frac{0.2-4}{0.3} \\right)^2 \\right]}$$\n",
        "\n",
        "Lo cual en Python se traduce en: \n",
        "\n",
        "```python\n",
        "from scipy.stats import norm\n",
        "\n",
        "norm(mu, sigma).pdf(X)\n",
        "```\n",
        "\n",
        "---\n",
        "\n",
        "Así también, la distribucion de probabilidad acumulada correspondiente está dada por: \n",
        "\n",
        "$$C(X) = \\int_{x<=X} P(x)dx = \\int_{- \\infty}^xP(X)dX $$\n",
        "\n",
        "teniendo en cuenta que $Dom(X) = (-\\infty, \\infty)$. \n",
        "\n",
        "`Ejemplo`: considerando una variable aleatoria que sigue una distribucion normal con media $\\mu=4$ y desviación estándar $\\sigma=0.3$, la probabilidad de que dicha variable tome el valor de $0.2$ o menos está dada por:\n",
        "\n",
        "$$C(0.2) = \\int_{x<=0.2} P(x)dx = \\int_{- \\infty}^{0.2}  \\left\\{\\frac{1}{0.3 \\sqrt{2 \\pi}} \\exp{\\left[-\\frac{1}{2}\\left(\\frac{X-4}{0.3} \\right)^2 \\right]} \\right\\} dX $$\n",
        "\n",
        "La cual se calcula en Python como: \n",
        "\n",
        "```python \n",
        "from scipy.stats import norm\n",
        "\n",
        "norm(mu, sigma).cdf(X)\n",
        "```\n",
        "\n",
        "_**Es importante recordar que la función de probabilidad acumulada de la distribución gaussiana no se puede calcular de forma exacta, ya que la integral anterior no tiene una expresión cerrada conocida. Es decir, los métodos de integración conocidos no funcionan para resolver esta integral.**_"
      ]
    },
    {
      "cell_type": "markdown",
      "metadata": {
        "id": "dUItRlD0u6Xz"
      },
      "source": [
        "## Ejercicios (bloque 1)\n",
        "\n",
        "Considerando una variable aleatoria que sigue una distribución normal con media $\\mu=4$ y desviación estándar $\\sigma=0.1$, calcula las siguientes probabilidades (usando Python):\n",
        "\n",
        "1. $P(X=4)$\n",
        "2. $P(X=-10)$\n",
        "3. $P(X=10)$\n",
        "4. $P(X<=4)$\n",
        "6. $P(X>=4)$\n"
      ]
    },
    {
      "cell_type": "code",
      "source": [
        "from scipy.stats import norm\n",
        "\n",
        "print(1 ,norm(4, 0.1).pdf(4))\n",
        "print(2 ,norm(4, 0.1).pdf(-10))\n",
        "print(3 ,norm(4, 0.1).pdf(10))\n",
        "print(4 ,norm(4, 0.1).cdf(4))\n",
        "print(5 ,1-norm(4, 0.1).cdf(4))\n"
      ],
      "metadata": {
        "colab": {
          "base_uri": "https://localhost:8080/"
        },
        "id": "lYgyXYWNP1WI",
        "outputId": "a36c08dd-83b2-4cca-9221-39c1a5d3194c"
      },
      "execution_count": 21,
      "outputs": [
        {
          "output_type": "stream",
          "name": "stdout",
          "text": [
            "1 3.989422804014327\n",
            "2 0.0\n",
            "3 0.0\n",
            "4 0.5\n",
            "5 0.5\n"
          ]
        }
      ]
    },
    {
      "cell_type": "code",
      "source": [
        "distribution = norm(4, 0.1)\n",
        "X = np.arange(3.5, 4.5, 0.01)\n",
        "y = [distribution.pdf(value) for value in X]\n",
        "plt.plot(X, y)"
      ],
      "metadata": {
        "colab": {
          "base_uri": "https://localhost:8080/",
          "height": 448
        },
        "id": "i4A514TZSLFa",
        "outputId": "58b48ad4-aba0-40e0-8a6d-0f25915636d1"
      },
      "execution_count": 18,
      "outputs": [
        {
          "output_type": "execute_result",
          "data": {
            "text/plain": [
              "[<matplotlib.lines.Line2D at 0x7fd3c9ccc940>]"
            ]
          },
          "metadata": {},
          "execution_count": 18
        },
        {
          "output_type": "display_data",
          "data": {
            "text/plain": [
              "<Figure size 640x480 with 1 Axes>"
            ],
            "image/png": "[encoded data removed]"
          },
          "metadata": {}
        }
      ]
    },
    {
      "cell_type": "markdown",
      "metadata": {
        "id": "gJZrejp27x1N"
      },
      "source": [
        "## De la binomial a la gaussiana\n",
        "\n",
        "En la clase 8 vimos como generar secuencias aleatorias de experimentos binomiales ([aquí](https://colab.research.google.com/drive/1MR9VZg19vHyZhvWWuxtNcy_3PZQ7AfwW?usp=sharing)), donde cada experimento era lanzar un cierto número de monedas. \n",
        "\n",
        "**¿Qué sucede si el número consecutivo de monedas que lanzamos en cada experimento (trial) es muy largo?**\n",
        "\n",
        "La función `generate_binomial_trials()` nos muestra lo que sucede si graficamos los resultados de muchos experimentos de lanzar 100 monedas en cada intento, con pyplot: "
      ]
    },
    {
      "cell_type": "code",
      "metadata": {
        "id": "77J2bk7Io8aW",
        "outputId": "7c8868cd-314c-4051-99a2-f8952c96ffd9",
        "colab": {
          "base_uri": "https://localhost:8080/",
          "height": 448
        }
      },
      "source": [
        "import numpy as np\n",
        "from numpy.random import binomial\n",
        "import matplotlib.pyplot as plt\n",
        "\n",
        "def generate_binomial_trials(trials=1000, coin_toss=100):\n",
        "  '''\n",
        "  el resultado de esta funcion es generar un conjuntos \n",
        "  de experimentos binomiales (trials) y de cada uno obtener \n",
        "  las cantidades de exitos en cada secuencia (e.j. lanzar monedas).\n",
        "\n",
        "  * trial: es una secuencia de <coin_toss> lanzamientos de moneda\n",
        "\n",
        "  * coin_toss: es el numero de monedas lanzadas en cada trial\n",
        "  '''\n",
        "  arr = []\n",
        "  for _ in range(trials):\n",
        "    arr.append(binomial(coin_toss, 0.5))\n",
        "  values, dist = np.unique(arr, return_counts=True)\n",
        "\n",
        "  return values, dist, arr\n",
        "\n",
        "values, dist, arr = generate_binomial_trials(100000)\n",
        "plt.bar(values, dist)"
      ],
      "execution_count": 49,
      "outputs": [
        {
          "output_type": "execute_result",
          "data": {
            "text/plain": [
              "<BarContainer object of 43 artists>"
            ]
          },
          "metadata": {},
          "execution_count": 49
        },
        {
          "output_type": "display_data",
          "data": {
            "text/plain": [
              "<Figure size 640x480 with 1 Axes>"
            ],
            "image/png": "[encoded data removed]"
          },
          "metadata": {}
        }
      ]
    },
    {
      "cell_type": "markdown",
      "metadata": {
        "id": "HQ8eIXdj9Vx-"
      },
      "source": [
        "¿Se parece a algo conocido? Tal vez una ditribución normal se ajuste, para verificarlo haremos el siguiente ejercicio: \n",
        "\n",
        "## Ejercicios (bloque 2)\n",
        "\n",
        "1. Con los resultados anteriores guardados en `values, dist` ajusta, usando el método de estimación paramétrica, una distribución gaussiana donde la media y desviación estándar correspondan a lo calculado a partir de los datos, de la misma manera que se hizo en el notebook de la clase 9 ([aquí](https://colab.research.google.com/drive/1weFtkmxdn_WnGW582Xugj9t7Mjzxis5b?usp=sharing))."
      ]
    },
    {
      "cell_type": "code",
      "metadata": {
        "id": "vvVEjooO3qRq",
        "colab": {
          "base_uri": "https://localhost:8080/",
          "height": 448
        },
        "outputId": "ec5cfeb1-c1a8-4d02-c519-1b1ad992e7c2"
      },
      "source": [
        "arr = np.repeat(values, dist) # repetir cada valor en values según su frecuencia en dist, en orden.\n",
        "mu = np.mean(arr)\n",
        "sigma = np.std(arr)\n",
        "distribution = norm(mu, sigma)\n",
        "x = np.arange(28, 74.1, 0.1)\n",
        "y = [distribution.pdf(value) for value in x]\n",
        "plt.plot(x, y, color='red')\n",
        "plt.bar(values, dist/len(arr))"
      ],
      "execution_count": 57,
      "outputs": [
        {
          "output_type": "execute_result",
          "data": {
            "text/plain": [
              "<BarContainer object of 43 artists>"
            ]
          },
          "metadata": {},
          "execution_count": 57
        },
        {
          "output_type": "display_data",
          "data": {
            "text/plain": [
              "<Figure size 640x480 with 1 Axes>"
            ],
            "image/png": "[encoded data removed]"
          },
          "metadata": {}
        }
      ]
    },
    {
      "cell_type": "markdown",
      "metadata": {
        "id": "VvlbR1VC-JX2"
      },
      "source": [
        "Si todo salió bien, habrás notado que en efecto una distribución normal se ajusta perfectamente a los datos. Esto se conoce como el **teorema del límite central**, el cual establece que en muchas situaciones conocidas, cuando variables aleatorias independientes se combinan, su total tiende a seguir una distribución normal cuando el número de variables que se combinan es muy grande $n \\rightarrow \\infty$. "
      ]
    },
    {
      "cell_type": "markdown",
      "source": [
        "# Estimación de densidades de probabilidad"
      ],
      "metadata": {
        "id": "3iBKBMqabAlc"
      }
    },
    {
      "cell_type": "markdown",
      "metadata": {
        "id": "3qCazsDcxxF3"
      },
      "source": [
        "## Estimación de máxima verosimilitud\n",
        "\n",
        "Como ya vimos, esta técnica, cuyas siglas en inglés son MLE (maximum likelihood estimation), nos permite encontrar la distribución de probabilidad que mejor estima un cierto conjunto de datos. Para ello consideramos dos pasos:\n",
        "\n",
        "1. Escogemos una distribución $P(X; \\theta)$, con un conjunto de parámetros $\\theta$, dado un conjunto de datos $X$.\n",
        "\n",
        "2. Seleccionamos los valores de los parámetros $\\theta = \\hat{\\theta}$ que mejor ajustan los datos siguiendo la premisa que serán aquellos tales que: \n",
        "\n",
        "$$\n",
        "P(X, \\theta) = L(X, \\hat{\\theta}) = \\max_{\\theta} \\left\\{ L(X, \\theta) \\right\\}\n",
        "$$\n",
        "\n",
        "Así pues, consideremos un conjunto de datos ${x_i}$ como el siguiente, el cual trabajamos en una clase pasada:"
      ]
    },
    {
      "cell_type": "code",
      "metadata": {
        "id": "yAheEbP5Cx8u",
        "outputId": "5dd9a380-052e-4caf-945d-5d1930d53cdc",
        "colab": {
          "base_uri": "https://localhost:8080/",
          "height": 467
        }
      },
      "source": [
        "import pandas as pd\n",
        "import numpy as np\n",
        "import matplotlib.pyplot as plt\n",
        "\n",
        "# recuerda que este archivo lo puedes bajar de: https://seattlecentral.edu/qelp/sets/057/057.html\n",
        "df = pd.read_excel('s057.xls')\n",
        "arr = df['Normally Distributed Housefly Wing Lengths'].values[4:]\n",
        "values, dist = np.unique(arr, return_counts=True)\n",
        "print(values)\n",
        "plt.bar(values, dist) "
      ],
      "execution_count": 59,
      "outputs": [
        {
          "output_type": "stream",
          "name": "stdout",
          "text": [
            "[37 38 39 40 41 42 43 44 45 46 47 48 49 50 51 52 53 54 55]\n"
          ]
        },
        {
          "output_type": "execute_result",
          "data": {
            "text/plain": [
              "<BarContainer object of 19 artists>"
            ]
          },
          "metadata": {},
          "execution_count": 59
        },
        {
          "output_type": "display_data",
          "data": {
            "text/plain": [
              "<Figure size 640x480 with 1 Axes>"
            ],
            "image/png": "[encoded data removed]"
          },
          "metadata": {}
        }
      ]
    },
    {
      "cell_type": "markdown",
      "metadata": {
        "id": "h0niZOt-zoxO"
      },
      "source": [
        "Si buscamos la distribución que mejor ajuste los datos, lo más razonable es pensar en una gaussiana o normal, y como ya se mostró en una notebook anterior, la distribucion gaussiana ajusta muy bien estos datos. En esta notebook veremos otra cara de la moneda sobre este mismo ejercicio. \n",
        "\n",
        "--- \n",
        "## RETO\n",
        "Usando MLE vas a demostrar que si asumimos que los datos vienen descritos por una función gaussiana:\n",
        "\n",
        "$$\n",
        "P(X;\\theta)=P(X;\\mu, \\sigma) = \\frac{1}{\\sigma \\sqrt{2 \\pi}} \\exp{\\left[-\\frac{1}{2}\\left(\\frac{X-\\mu}{\\sigma} \\right)^2 \\right]}\n",
        "$$\n",
        "\n",
        "Entonces los parámetros que mejor ajustan los datos ${x_i}$ de la celda anterior están dados por: \n",
        "\n",
        "$$\n",
        "\\mu = \\frac{1}{n} \\sum_i^n x_i\n",
        "$$\n",
        "\n",
        "$$\n",
        "\\sigma^2 = \\frac{1}{n}\\sum_i^n (x_i-\\mu)^2\n",
        "$$\n",
        "\n",
        "donde *n* es la cantidad de datos. \n",
        "\n",
        "--- \n",
        "\n",
        "# Paso a paso (a mano)\n",
        "\n",
        "## 1) Escribe la verosimilitud (likelihood)\n",
        "Considera que en este caso asumimos que cada punto sigue una distribución normal \n",
        "\n",
        "$$\n",
        "L(X;\\theta) = \\prod_i^n P(x_i;\\theta)\n",
        "$$\n",
        "\n",
        "y por lo tanto la verosimilitud está dada por: \n",
        "\n",
        "$$\n",
        "L(X;\\mu, \\sigma) = L(\\mu, \\sigma) = \\prod_i^n \\frac{1}{\\sqrt{2 \\pi \\sigma^2}} \\exp{\\left\\{ \\frac{-1}{2\\sigma^2}(x_i - \\mu)^2 \\right\\}} \n",
        "$$\n",
        "\n",
        "## 2) Calcula las ecuaciones del valor máximo\n",
        "\n",
        "Usando MLE se deben calcular los parámetros que conduzcan al máximo de probabilidad: \n",
        "\n",
        "$$\n",
        "\\max L(\\mu, \\sigma) \\rightarrow \\max \\log L(\\mu, \\sigma)\n",
        "$$\n",
        "\n",
        "donde consideramos el logaritmo de la verosimilitud. Demuestra que esto equivale a: \n",
        "\n",
        "$$\n",
        "\\max L(\\mu, \\sigma) = \\min \\left( n \\log \\sigma + \\frac{1}{2 \\sigma^2} \\sum_i (x_i - \\mu)^2 \\right)\n",
        "$$\n",
        "\n",
        "Esto equivale a encontrar el minimo de la función: \n",
        "\n",
        "\n",
        "$$f(\\mu, \\sigma) = n \\log \\sigma + \\frac{1}{2 \\sigma^2} \\sum_i (x_i - \\mu)^2$$\n",
        "\n",
        "lo cual se hace derivando parcialmente la función respecto a ambas variables e igualando a cero.\n",
        "\n",
        "$$\n",
        "\\frac{\\partial L}{\\partial \\mu} = 0\n",
        "$$\n",
        "\n",
        "$$\n",
        "\\frac{\\partial L}{\\partial \\sigma} = 0\n",
        "$$\n",
        "\n",
        "## 3) Resuelve el sistema de ecuaciones resultante\n",
        "\n",
        "Al final habrás obtenido un par de ecuaciones cuyas incógnitas son los parámetros: \n",
        "\n",
        "$$\n",
        "\\frac{-2}{\\sigma^2}\\sum_i (x_i - \\mu) = 0\n",
        "$$\n",
        "$$\n",
        "\\frac{n}{\\sigma} - \\frac{1}{\\sigma^3}\\sum_i (x_i - \\mu)^2 = 0\n",
        "$$\n",
        "\n",
        "Resuélvelas y habrás llegado a las fórmulas indicadas previamente para los parámetros óptimos. \n",
        "\n",
        "**¿No son estas justamente las definiciones típicas de la media y la desviación estándar para un conjunto de datos?**\n",
        "\n",
        "¡Sí, así es! Esto indica que justamente los parámetros son óptimos cuando la desviación estándar y media de los datos coinciden con aquellas de la distribucion gaussiana. "
      ]
    },
    {
      "cell_type": "markdown",
      "metadata": {
        "id": "Tajl978J57KO"
      },
      "source": [
        "---\n",
        "\n",
        "## Comprobación numérica\n",
        "\n",
        "Vamos ahora a hacer una comprobación numérica de que esos parámetros efectivamente ajustan de manera óptima los datos. Construye funciones en Python que te permitan calcular directamente los parámetros óptimos según las ecuaciones encontradas: \n",
        "\n",
        "\n",
        "$$\n",
        "\\mu = \\frac{1}{n} \\sum_i^n x_i\n",
        "$$\n",
        "\n",
        "$$\n",
        "\\sigma^2 = \\frac{1}{n}\\sum_i^n (x_i-\\mu)^2\n",
        "$$"
      ]
    },
    {
      "cell_type": "code",
      "metadata": {
        "id": "nUP14BDP5JJJ"
      },
      "source": [
        "## parámetros optimos a partir del cálculo con MLE\n",
        "## completa con tu código aquí:\n",
        "\n",
        "def optimal_mu(arr=arr):\n",
        "  mu=0\n",
        "  for n in arr:\n",
        "    mu+=n\n",
        "  return mu/len(arr)\n",
        "\n",
        "def optimal_sigma(arr=arr):\n",
        "  mu= optimal_mu(arr)\n",
        "  sigma=0\n",
        "  for i in arr:\n",
        "    sigma+=pow(i-mu,2)\n",
        "  return pow(sigma/len(arr),0.5)"
      ],
      "execution_count": 77,
      "outputs": []
    },
    {
      "cell_type": "code",
      "metadata": {
        "id": "-2HMb-ioFptq",
        "colab": {
          "base_uri": "https://localhost:8080/"
        },
        "outputId": "0ce05b75-4440-441c-8452-3e3ca5cfeb9b"
      },
      "source": [
        "print(optimal_mu(), arr.mean())\n",
        "print(optimal_sigma(), arr.std())"
      ],
      "execution_count": 78,
      "outputs": [
        {
          "output_type": "stream",
          "name": "stdout",
          "text": [
            "45.5959595959596 45.5959595959596\n",
            "3.8003699764580126 3.8003699764580126\n"
          ]
        }
      ]
    },
    {
      "cell_type": "markdown",
      "metadata": {
        "id": "JFUVXTA1E5du"
      },
      "source": [
        "De manera que luego puedas encontrar que ajustan muy bien los datos como sucedió en la notebook de la clase 9."
      ]
    },
    {
      "cell_type": "code",
      "metadata": {
        "id": "ljYOKoHlA-SJ",
        "outputId": "360ba363-d235-421d-c6e1-1905d3306a79",
        "colab": {
          "base_uri": "https://localhost:8080/",
          "height": 448
        }
      },
      "source": [
        "from scipy.stats import norm \n",
        "\n",
        "values, dist = np.unique(arr, return_counts=True)\n",
        "plt.bar(values, dist/len(arr)) \n",
        "\n",
        "dist = norm(optimal_mu(), optimal_sigma())\n",
        "x = np.arange(30, 60, 0.1)\n",
        "y = [dist.pdf(value) for value in x]\n",
        "plt.plot(x,y)"
      ],
      "execution_count": 79,
      "outputs": [
        {
          "output_type": "execute_result",
          "data": {
            "text/plain": [
              "[<matplotlib.lines.Line2D at 0x7fd3c2042050>]"
            ]
          },
          "metadata": {},
          "execution_count": 79
        },
        {
          "output_type": "display_data",
          "data": {
            "text/plain": [
              "<Figure size 640x480 with 1 Axes>"
            ],
            "image/png": "[encoded data removed]"
          },
          "metadata": {}
        }
      ]
    },
    {
      "cell_type": "markdown",
      "metadata": {
        "id": "lGvRzB1_FTbi"
      },
      "source": [
        "Como te habrás dado cuenta los valores óptimos de los parámetros coinciden perfectamente con las definiciones de media y desviación estándar, así como sus contrapartes en Numpy `arr.mean()`  y `arr.std()`."
      ]
    },
    {
      "cell_type": "markdown",
      "source": [
        "# Teorema de Bayes y machine learning"
      ],
      "metadata": {
        "id": "MXciMs5og6BF"
      }
    },
    {
      "cell_type": "markdown",
      "metadata": {
        "id": "sygaS-ObYZdt"
      },
      "source": [
        "## Ejemplo con clasificador de Naive Bayes\n",
        "\n",
        "Consideremos un conjunto de datos artificial sobre el cual podamos probar un clasificador de Naive Bayes:"
      ]
    },
    {
      "cell_type": "code",
      "metadata": {
        "id": "9vQgN0vfMt7S",
        "outputId": "9871d102-13ab-4837-80d8-2293c84badf9",
        "colab": {
          "base_uri": "https://localhost:8080/",
          "height": 448
        }
      },
      "source": [
        "from sklearn.datasets import make_blobs\n",
        "import matplotlib.pyplot as plt\n",
        "import numpy as np\n",
        "from scipy.stats import norm\n",
        "\n",
        "X, y = make_blobs(n_samples=10000, centers=2, n_features=2, random_state=1)\n",
        "\n",
        "# esta función ajusta una gausiana \n",
        "# a un conjunto 'data' \n",
        "def fit_distribution(data): \n",
        "  mu = data.mean()\n",
        "  sigma = data.std() \n",
        "  dist = norm(mu, sigma)\n",
        "  return dist\n",
        "\n",
        "plt.scatter(X[y==1][:,0], X[y==1][:,1], label = '1', color='red')\n",
        "plt.scatter(X[y==0][:,0], X[y==0][:,1], label = '0', color = 'blue')\n",
        "plt.legend()"
      ],
      "execution_count": 80,
      "outputs": [
        {
          "output_type": "execute_result",
          "data": {
            "text/plain": [
              "<matplotlib.legend.Legend at 0x7fd3c1751de0>"
            ]
          },
          "metadata": {},
          "execution_count": 80
        },
        {
          "output_type": "display_data",
          "data": {
            "text/plain": [
              "<Figure size 640x480 with 1 Axes>"
            ],
            "image/png": "[encoded data removed]"
          },
          "metadata": {}
        }
      ]
    },
    {
      "cell_type": "markdown",
      "metadata": {
        "id": "T1jSlSEiRjkj"
      },
      "source": [
        "Consideramos un modelo de clasificacion de Naive Bayes:\n",
        "\n",
        "$$\n",
        "P(c \\vert x) = P(x \\vert c)P(c)\n",
        "$$\n",
        "\n",
        "donde $P(c)$ es la probabilidad prior dada una clase $c$ y $P(x\\vert c)$ es la verosimilitud de $x$ dada la una clase $c$, con Naive Bayes esto resulta en: \n",
        "\n",
        "$$\n",
        "P(c \\vert x) = P(c)\\prod_iP(x_i \\vert c)\n",
        "$$\n",
        "\n",
        "Lo cual para nuestro caso (`n_features=2`) se traduce en: \n",
        "\n",
        "$$\n",
        "P(c \\vert x) = \\underbrace{P(c)}_{\\text{prior}} \\underbrace{P(x_0 \\vert c) P(x_1 \\vert c)}_{\\text{likelihood}}\n",
        "$$"
      ]
    },
    {
      "cell_type": "code",
      "metadata": {
        "id": "zMtzhYxROFw_"
      },
      "source": [
        "# calculamos priors\n",
        "def prior(c):\n",
        "  return len(X[y==c])/len(X)\n",
        "\n",
        "# tenemos cuatro posibles distribuciones a ajustar (verosimilitud)\n",
        "def distX0(c):\n",
        "  if c==0:\n",
        "    return fit_distribution(X[y==0][:,0])\n",
        "  elif c==1:\n",
        "    return fit_distribution(X[y==1][:,0])\n",
        "\n",
        "def distX1(c):\n",
        "  if c==0:\n",
        "    return fit_distribution(X[y==0][:,1])\n",
        "  elif c==1:\n",
        "    return fit_distribution(X[y==1][:,1])\n",
        "\n",
        "# verosimilitud\n",
        "def likelihood(X, c):\n",
        "  return distX0(c).pdf(X[0])*distX1(c).pdf(X[1])\n",
        "\n",
        "# posterior\n",
        "def probability(c, X):\n",
        "  return prior(c)*likelihood(X,c)\n",
        "\n",
        "predictions = [np.argmax([probability(0, vector), probability(1, vector)]) for vector in X]"
      ],
      "execution_count": 81,
      "outputs": []
    },
    {
      "cell_type": "markdown",
      "metadata": {
        "id": "BA0pPTW_dLIW"
      },
      "source": [
        "Al final la distribución posterior nos da la probabilidad de que un dato `X` corresponda a una clase `c`. Luego de esto evaluamos el ajuste del modelo de clasificación al dataset artificial con una matriz de confusión:  "
      ]
    },
    {
      "cell_type": "code",
      "metadata": {
        "id": "XKwDGHG1XFU8",
        "outputId": "e29baa3c-2429-44bd-b80c-d46c353d25d0",
        "colab": {
          "base_uri": "https://localhost:8080/"
        }
      },
      "source": [
        "from sklearn.metrics import confusion_matrix\n",
        "confusion_matrix(y, predictions)"
      ],
      "execution_count": 82,
      "outputs": [
        {
          "output_type": "execute_result",
          "data": {
            "text/plain": [
              "array([[5000,    0],\n",
              "       [   0, 5000]])"
            ]
          },
          "metadata": {},
          "execution_count": 82
        }
      ]
    },
    {
      "cell_type": "markdown",
      "metadata": {
        "id": "oXPl05Eldf4P"
      },
      "source": [
        "Donde vemos que la distribución ajusta perfectamente los datos, de lo cual podemos también estimar la clase para otros puntos que no estaban inicialmente en el dataset:"
      ]
    },
    {
      "cell_type": "code",
      "metadata": {
        "id": "AZ1Q2e1yYQIC",
        "outputId": "49a6a824-0637-4c62-9b26-dcf55923af8c",
        "colab": {
          "base_uri": "https://localhost:8080/"
        }
      },
      "source": [
        "def class_distribution(x, y):\n",
        "  return np.argmax([probability(0, [x,y]), probability(1, [x,y])])\n",
        "\n",
        "class_distribution(-6, 0)"
      ],
      "execution_count": 100,
      "outputs": [
        {
          "output_type": "execute_result",
          "data": {
            "text/plain": [
              "1"
            ]
          },
          "metadata": {},
          "execution_count": 100
        }
      ]
    },
    {
      "cell_type": "code",
      "metadata": {
        "id": "DvFrGF2CeSIC",
        "outputId": "f16ee012-c9e1-4358-e771-824fa5e38313",
        "colab": {
          "base_uri": "https://localhost:8080/"
        }
      },
      "source": [
        "class_distribution(-5.5, 1)"
      ],
      "execution_count": 102,
      "outputs": [
        {
          "output_type": "execute_result",
          "data": {
            "text/plain": [
              "0"
            ]
          },
          "metadata": {},
          "execution_count": 102
        }
      ]
    },
    {
      "cell_type": "code",
      "metadata": {
        "id": "pV7uXTJ5cx4W",
        "outputId": "9a72d873-ebe5-42f3-9f12-541a3199f685",
        "colab": {
          "base_uri": "https://localhost:8080/",
          "height": 448
        }
      },
      "source": [
        "plt.scatter(X[y==1][:,0], X[y==1][:,1], label = '1', color='red', marker = '*')\n",
        "plt.scatter(X[y==0][:,0], X[y==0][:,1], label = '0', color = 'blue', marker='.')\n",
        "plt.scatter(-6, 0, color = 'red', marker='*', s=53)\n",
        "plt.scatter(-5.5, 1, color = 'blue', marker='.', s=53)\n",
        "plt.legend()"
      ],
      "execution_count": 104,
      "outputs": [
        {
          "output_type": "execute_result",
          "data": {
            "text/plain": [
              "<matplotlib.legend.Legend at 0x7fd3c0e9d6f0>"
            ]
          },
          "metadata": {},
          "execution_count": 104
        },
        {
          "output_type": "display_data",
          "data": {
            "text/plain": [
              "<Figure size 640x480 with 1 Axes>"
            ],
            "image/png": "[encoded data removed]"
          },
          "metadata": {}
        }
      ]
    },
    {
      "cell_type": "markdown",
      "metadata": {
        "id": "iKGBDsoneir8"
      },
      "source": [
        "En este plot anterior se evidencia cómo el clasificador basado en una distribución posterior puede clasificar puntos que no estaban en el conjunto de datos inicial (puntos con forma de cuadrado), permitiendo de esta manera extrapolar las funciones de clasificación mas allá de los datos iniciales."
      ]
    }
  ]
}